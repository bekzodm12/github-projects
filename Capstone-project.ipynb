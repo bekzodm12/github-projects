{
 "cells": [
  {
   "cell_type": "markdown",
   "metadata": {},
   "source": [
    "# Capstone Project - The Battle of Neighbourhoods"
   ]
  },
  {
   "cell_type": "markdown",
   "metadata": {},
   "source": [
    "## Best Places in Frankfurt to open an Uzbek Restaurant"
   ]
  },
  {
   "cell_type": "markdown",
   "metadata": {},
   "source": [
    "### Introduction/Business Problem"
   ]
  },
  {
   "cell_type": "markdown",
   "metadata": {},
   "source": [
    "We are interested in opening an Uzbek restaurant in Frankfurt, which potentially can attract a high number of customers. Ideally, our stakeholders are interested in a **narrowed-down list of potential locations to explore further**. \n",
    "\n",
    "The choice of proper locations for an Uzbek restaurant in Frankfurt is very important, because Uzbek cuisine is not widely spread in Frankfurt unlike any other Asian or European cuisines, though it is very popular among European tourists visiting Uzbekistan due to its great potential in gastronomic tourism. Currently, there is only one Uzbek restaurant in Frankfurt and it is located in **Wöllstädter Str. 11, 60385 Frankfurt am Main in Bornheim neighborhood**.\n",
    "\n",
    "Our stakeholders point out that a potentially good location for an Uzbek restaurant in Frankfurt should comply to the following criteria:\n",
    "\n",
    "* Locations close to the city center\n",
    "* Locations with low restaurant density\n",
    "* Locations with few or no close Asian restaurants (competitors)\n",
    "* Locations with high population density\n",
    "* Locations close to tourist destinations/attractions\n",
    "\n",
    "Our goal is to come up with a manageable list of optimal locations in Frankfurt that satisfy all of the above criteria."
   ]
  },
  {
   "cell_type": "markdown",
   "metadata": {},
   "source": [
    "### Data"
   ]
  },
  {
   "cell_type": "markdown",
   "metadata": {},
   "source": [
    "According to the criteria that we have defined in our business understanding section, the following factors will influence the choice of optimal locations for an Uzbek restaurant in Frankfurt\n",
    "\n",
    "* The closer a location to the city center, the better. The city center will be defined at **Hauptwache** (the street is called “An der Hauptwache”). **The distance between a potential location and Hauptwache** will determine the closeness criterion.\n",
    "* **The number of restaurants** nearby a potential location will be counted towards the **restaurant density**. The less restaurants surround the location, the more suitable it will be.\n",
    "* **The number of Asian restaurants** surrounding a given location will be counted to determine suitability of a location, as they are close competitors to the Uzbek cuisine. \n",
    "* **Neighborhoods with high population density** will be preferable for an optimal location choice, because potentially more customers can be attracted there. \n",
    "* Finally, **major tourist attractions** will be taken into account as these places also attract many foreign tourists who can potentially become customers of a nearby Uzbek restaurant.\n",
    "\n",
    "The following data sources will be used to extract required data:\n",
    "\n",
    "* Distances from the city center, from the main tourist attractions to potential locations will be obtained using **Google Maps API geocoding and revers geocoding**.\n",
    "* The names of most popular tourist attractions in Frankfurt will be obtained from **Tripadvisor.com using web scraping** as it does not provide API access for data analysis purposes.\n",
    "* The number of restaurants, their category and type as well as their geolocation information will be obtained through **Foursquare API**.\n",
    "* The names of the neighbourhoods in Frankfurt and their population density will be obtained **using web scraping from Wikipedia** at https://de.wikipedia.org/wiki/Liste_der_Stadtteile_von_Frankfurt_am_Main.\n"
   ]
  },
  {
   "cell_type": "code",
   "execution_count": null,
   "metadata": {},
   "outputs": [],
   "source": []
  }
 ],
 "metadata": {
  "kernelspec": {
   "display_name": "Python",
   "language": "python",
   "name": "conda-env-python-py"
  },
  "language_info": {
   "codemirror_mode": {
    "name": "ipython",
    "version": 3
   },
   "file_extension": ".py",
   "mimetype": "text/x-python",
   "name": "python",
   "nbconvert_exporter": "python",
   "pygments_lexer": "ipython3",
   "version": "3.6.7"
  }
 },
 "nbformat": 4,
 "nbformat_minor": 4
}
